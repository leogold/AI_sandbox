{
  "nbformat": 4,
  "nbformat_minor": 0,
  "metadata": {
    "colab": {
      "name": "Sodoku.ipynb",
      "provenance": [],
      "authorship_tag": "ABX9TyP6Iy0mzLwoPU2hKNc6NCW2",
      "include_colab_link": true
    },
    "kernelspec": {
      "name": "python3",
      "display_name": "Python 3"
    }
  },
  "cells": [
    {
      "cell_type": "markdown",
      "metadata": {
        "id": "view-in-github",
        "colab_type": "text"
      },
      "source": [
        "<a href=\"https://colab.research.google.com/github/leogold/AI_sandbox/blob/master/Sodoku.ipynb\" target=\"_parent\"><img src=\"https://colab.research.google.com/assets/colab-badge.svg\" alt=\"Open In Colab\"/></a>"
      ]
    },
    {
      "cell_type": "code",
      "metadata": {
        "id": "OyRaNbmtR-Bz",
        "colab_type": "code",
        "colab": {}
      },
      "source": [
        "import numpy as np"
      ],
      "execution_count": 0,
      "outputs": []
    },
    {
      "cell_type": "code",
      "metadata": {
        "id": "OO52lq1MRpac",
        "colab_type": "code",
        "colab": {}
      },
      "source": [
        "sodoku=[[5,3,0,0,7,0,0,0,0],[6,0,0,1,9,5,0,0,0],[0,9,8,0,0,0,0,6,0],[8,0,0,0,6,0,0,0,3],[4,0,0,8,0,3,0,0,1],[7,0,0,0,2,0,0,0,6],[0,6,0,0,0,0,2,8,0,],[0,0,0,4,1,9,0,0,5],[0,0,0,0,8,0,0,7,9]]"
      ],
      "execution_count": 0,
      "outputs": []
    },
    {
      "cell_type": "code",
      "metadata": {
        "id": "fEk5ZUYMR2UB",
        "colab_type": "code",
        "colab": {
          "base_uri": "https://localhost:8080/",
          "height": 170
        },
        "outputId": "ce1b46a9-7e2c-4af7-9d25-49d2befec46d"
      },
      "source": [
        "print(np.matrix(sodoku))\n"
      ],
      "execution_count": 4,
      "outputs": [
        {
          "output_type": "stream",
          "text": [
            "[[5 3 0 0 7 0 0 0 0]\n",
            " [6 0 0 1 9 5 0 0 0]\n",
            " [0 9 8 0 0 0 0 6 0]\n",
            " [8 0 0 0 6 0 0 0 3]\n",
            " [4 0 0 8 0 3 0 0 1]\n",
            " [7 0 0 0 2 0 0 0 6]\n",
            " [0 6 0 0 0 0 2 8 0]\n",
            " [0 0 0 4 1 9 0 0 5]\n",
            " [0 0 0 0 8 0 0 7 9]]\n"
          ],
          "name": "stdout"
        }
      ]
    },
    {
      "cell_type": "code",
      "metadata": {
        "id": "wGewjmUjR8dx",
        "colab_type": "code",
        "colab": {}
      },
      "source": [
        "def pode (y,x,n):\n",
        "    global sodoku\n",
        "    for i in range(9):\n",
        "        if sodoku[y][i] == n:\n",
        "            return False\n",
        "    for i in range(9):\n",
        "        if sodoku[i][x] == n:\n",
        "            return False\n",
        "    ys = (y//3)*3\n",
        "    xs = (x//3)*3\n",
        "    for i in range (3):\n",
        "        for j in range (3):\n",
        "            if sodoku [ys+i][xs+j] == n:\n",
        "                #print (sodoku[ys+i][xs+j])\n",
        "                return False\n",
        "    return True"
      ],
      "execution_count": 0,
      "outputs": []
    },
    {
      "cell_type": "code",
      "metadata": {
        "id": "HZqjMw_CSFDC",
        "colab_type": "code",
        "colab": {
          "base_uri": "https://localhost:8080/",
          "height": 34
        },
        "outputId": "da3da58c-e452-41c6-ee98-80749e39f981"
      },
      "source": [
        "pode(4,4,5)"
      ],
      "execution_count": 6,
      "outputs": [
        {
          "output_type": "execute_result",
          "data": {
            "text/plain": [
              "True"
            ]
          },
          "metadata": {
            "tags": []
          },
          "execution_count": 6
        }
      ]
    },
    {
      "cell_type": "code",
      "metadata": {
        "id": "Aoemjdg4SHOm",
        "colab_type": "code",
        "colab": {}
      },
      "source": [
        "def resolve() :\n",
        "    global sodoku\n",
        "    for y in range(9) :\n",
        "        for x in range(9) :\n",
        "            if sodoku[y][x] == 0 :\n",
        "                for n in range(1,10) : # para antes de ultimo, no caso nao pega o 10\n",
        "                    if pode (y,x,n) :\n",
        "                        sodoku[y][x] = n\n",
        "                        resolve()\n",
        "                        sodoku[y][x] = 0\n",
        "                solved = (y,x,n)\n",
        "                return\n",
        "    print(np.matrix(sodoku))\n",
        "    input(\"será que existem mais soluções?\")"
      ],
      "execution_count": 0,
      "outputs": []
    },
    {
      "cell_type": "code",
      "metadata": {
        "id": "h9burugZSKa7",
        "colab_type": "code",
        "colab": {
          "base_uri": "https://localhost:8080/",
          "height": 187
        },
        "outputId": "c6ce9334-886d-43d4-fca0-c570e3413794"
      },
      "source": [
        "resolve()"
      ],
      "execution_count": 8,
      "outputs": [
        {
          "output_type": "stream",
          "text": [
            "[[5 3 4 6 7 8 9 1 2]\n",
            " [6 7 2 1 9 5 3 4 8]\n",
            " [1 9 8 3 4 2 5 6 7]\n",
            " [8 5 9 7 6 1 4 2 3]\n",
            " [4 2 6 8 5 3 7 9 1]\n",
            " [7 1 3 9 2 4 8 5 6]\n",
            " [9 6 1 5 3 7 2 8 4]\n",
            " [2 8 7 4 1 9 6 3 5]\n",
            " [3 4 5 2 8 6 1 7 9]]\n",
            "será que existem mais soluções?\n"
          ],
          "name": "stdout"
        }
      ]
    },
    {
      "cell_type": "code",
      "metadata": {
        "id": "CXpwpt7CSMdK",
        "colab_type": "code",
        "colab": {}
      },
      "source": [
        "sodoku=[[0,0,0,0,0,0,0,0,0],[0,0,0,0,0,0,0,0,0],[0,0,0,0,0,0,0,0,0],[0,0,0,0,0,0,0,0,0],[0,0,0,0,0,0,0,0,0],[0,0,0,0,0,0,0,0,0],[0,0,0,0,0,0,0,0,0,],[0,0,0,0,0,0,0,0,0],[0,0,0,0,0,0,0,0,0]]"
      ],
      "execution_count": 0,
      "outputs": []
    },
    {
      "cell_type": "code",
      "metadata": {
        "id": "N0icHRSuSPnI",
        "colab_type": "code",
        "colab": {}
      },
      "source": [
        "sodoku=[[5,3,0,0,7,0,0,0,0],[6,0,0,1,9,5,0,0,0],[0,9,8,0,0,0,0,6,0],[8,0,0,0,6,0,0,0,3],[4,0,0,8,0,3,0,0,1],[7,0,0,0,2,0,0,0,6],[0,6,0,0,0,0,2,8,0,],[0,0,0,4,1,9,0,0,5],[0,0,0,0,8,0,0,0,0]]"
      ],
      "execution_count": 0,
      "outputs": []
    },
    {
      "cell_type": "code",
      "metadata": {
        "id": "Rcj2FrVGSR1F",
        "colab_type": "code",
        "colab": {}
      },
      "source": [
        "def pode2 (y,x):\n",
        "    global sodoku\n",
        "    lista = []\n",
        "    for i in range(9):\n",
        "        lista.append(sodoku[y][i])\n",
        "    for i in range(9):\n",
        "        lista.append(sodoku[i][x])\n",
        "    ys = (y//3)*3\n",
        "    xs = (x//3)*3\n",
        "    for i in range (3):\n",
        "        for j in range (3):\n",
        "            lista.append(sodoku [ys+i][xs+j])\n",
        "    unicos = np.unique(lista)\n",
        "    #print (unicos)\n",
        "    #print(np.count_nonzero(unicos))\n",
        "    if np.count_nonzero(unicos) == 8:\n",
        "        return True\n",
        "    return False"
      ],
      "execution_count": 0,
      "outputs": []
    },
    {
      "cell_type": "code",
      "metadata": {
        "id": "XVAEp_rKSUYw",
        "colab_type": "code",
        "colab": {}
      },
      "source": [
        "def resolve2() :\n",
        "    global sodoku\n",
        "    for y in range(9) :\n",
        "        for x in range(9) :\n",
        "            if sodoku[y][x] == 0  & pode2 (y,x):\n",
        "                for n in range(1,10) : # para antes de ultimo, no caso nao pega o 10\n",
        "                    if pode (y,x,n):\n",
        "                        sodoku[y][x] = n\n",
        "                        resolve2()\n",
        "                        sodoku[y][x] = 0\n",
        "                solved = (y,x,n)\n",
        "                return\n",
        "    print(np.matrix(sodoku))\n",
        "    input(\"será que existem mais soluções?\")"
      ],
      "execution_count": 0,
      "outputs": []
    },
    {
      "cell_type": "code",
      "metadata": {
        "id": "9Xgacns4SW3D",
        "colab_type": "code",
        "colab": {
          "base_uri": "https://localhost:8080/",
          "height": 357
        },
        "outputId": "d287cf6d-4035-431e-9863-3b8f0e0290a6"
      },
      "source": [
        "resolve2()"
      ],
      "execution_count": 13,
      "outputs": [
        {
          "output_type": "stream",
          "text": [
            "[[5 3 4 6 7 8 1 9 2]\n",
            " [6 7 2 1 9 5 3 4 8]\n",
            " [1 9 8 3 4 2 5 6 7]\n",
            " [8 5 9 7 6 1 4 2 3]\n",
            " [4 2 6 8 5 3 9 7 1]\n",
            " [7 1 3 9 2 4 8 5 6]\n",
            " [9 6 1 5 3 7 2 8 4]\n",
            " [2 8 7 4 1 9 6 3 5]\n",
            " [3 4 5 2 8 6 7 1 9]]\n",
            "será que existem mais soluções?\n",
            "[[5 3 4 6 7 8 9 1 2]\n",
            " [6 7 2 1 9 5 3 4 8]\n",
            " [1 9 8 3 4 2 5 6 7]\n",
            " [8 5 9 7 6 1 4 2 3]\n",
            " [4 2 6 8 5 3 7 9 1]\n",
            " [7 1 3 9 2 4 8 5 6]\n",
            " [9 6 1 5 3 7 2 8 4]\n",
            " [2 8 7 4 1 9 6 3 5]\n",
            " [3 4 5 2 8 6 1 7 9]]\n",
            "será que existem mais soluções?\n"
          ],
          "name": "stdout"
        }
      ]
    },
    {
      "cell_type": "code",
      "metadata": {
        "id": "8DARV0npSZSt",
        "colab_type": "code",
        "colab": {}
      },
      "source": [
        ""
      ],
      "execution_count": 0,
      "outputs": []
    }
  ]
}